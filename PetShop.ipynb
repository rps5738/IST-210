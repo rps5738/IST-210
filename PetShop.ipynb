{
  "nbformat": 4,
  "nbformat_minor": 0,
  "metadata": {
    "colab": {
      "name": "Untitled0.ipynb",
      "provenance": [],
      "authorship_tag": "ABX9TyMi+fFvFJuNimu+s2GaHEer",
      "include_colab_link": true
    },
    "kernelspec": {
      "name": "python3",
      "display_name": "Python 3"
    }
  },
  "cells": [
    {
      "cell_type": "markdown",
      "metadata": {
        "id": "view-in-github",
        "colab_type": "text"
      },
      "source": [
        "<a href=\"https://colab.research.google.com/github/rps5738/IST-210/blob/master/PetShop.ipynb\" target=\"_parent\"><img src=\"https://colab.research.google.com/assets/colab-badge.svg\" alt=\"Open In Colab\"/></a>"
      ]
    },
    {
      "cell_type": "markdown",
      "metadata": {
        "id": "X9VdZbCmA-d6"
      },
      "source": [
        "![PetShop](https://raw.githubusercontent.com/rps5738/IST-210/master/Labs/PetShop.png)"
      ]
    },
    {
      "cell_type": "markdown",
      "metadata": {
        "id": "nFo9RwCKBBD7"
      },
      "source": [
        "This is the picture of my pet shop. To start I have the entity of Pet. This creates the pet that has an id called pet number, name, age, breed, price and a place to stay. The enclosure it stays at is linked to the enclosure entity by its enclosure number and the pet is kept in that enclosure. One pet stays in an enclosure but an eclosure can have up to 10 pets. Then a pet gets fed food and the food can feed up to 50 animals. However, this food can also be included in a food transaction and a animal transaction(adoption). If a customer buys the food they can get up to 10 bags and it is tracked by its item number. If the costumer adopts the pet then the food included is also tracked buy its item number and they get 1 bag. A customer can adopt up to 5 animals and its tracked by the transaction id and the customer is tracked by the customer id. "
      ]
    }
  ]
}