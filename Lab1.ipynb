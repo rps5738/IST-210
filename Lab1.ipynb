{
  "nbformat": 4,
  "nbformat_minor": 0,
  "metadata": {
    "colab": {
      "name": "Lab1.ipynb",
      "provenance": [],
      "collapsed_sections": [],
      "authorship_tag": "ABX9TyOMu5HzVQA3q8gUb2Bafzub",
      "include_colab_link": true
    },
    "kernelspec": {
      "name": "python3",
      "display_name": "Python 3"
    }
  },
  "cells": [
    {
      "cell_type": "markdown",
      "metadata": {
        "id": "view-in-github",
        "colab_type": "text"
      },
      "source": [
        "<a href=\"https://colab.research.google.com/github/rps5738/IST-210/blob/master/Lab1.ipynb\" target=\"_parent\"><img src=\"https://colab.research.google.com/assets/colab-badge.svg\" alt=\"Open In Colab\"/></a>"
      ]
    },
    {
      "cell_type": "code",
      "metadata": {
        "id": "EUDqLxoGkvuR",
        "colab_type": "code",
        "colab": {}
      },
      "source": [
        ""
      ],
      "execution_count": null,
      "outputs": []
    },
    {
      "cell_type": "markdown",
      "metadata": {
        "id": "UPJ7A2OULBKR",
        "colab_type": "text"
      },
      "source": [
        "# 1.Do you like using Jupyter Notebooks?"
      ]
    },
    {
      "cell_type": "markdown",
      "metadata": {
        "id": "C743EJBxLIGo",
        "colab_type": "text"
      },
      "source": [
        "## 1. Yeah it is very nice being allowed to use different languages on a single platform instead of having to use many different ones. Furhtermore, it seems pretty user friendly and easy to learn."
      ]
    },
    {
      "cell_type": "markdown",
      "metadata": {
        "id": "YLESYj8ULYTM",
        "colab_type": "text"
      },
      "source": [
        "# 2.What do you want to learn more about in Jupyter Notebooks?"
      ]
    },
    {
      "cell_type": "markdown",
      "metadata": {
        "id": "DT3vNDmMLirE",
        "colab_type": "text"
      },
      "source": [
        "## 1. I would like to practice more sql in Jupyter. I have used mysql before and am using jql in this class as well as my computer science class this year so this will hopefully be some useful practice."
      ]
    },
    {
      "cell_type": "markdown",
      "metadata": {
        "id": "QdSxL8vWL6Z9",
        "colab_type": "text"
      },
      "source": [
        "![PSU](https://raw.githubusercontent.com/rps5738/IST-210/master/Images/download.png)"
      ]
    }
  ]
}