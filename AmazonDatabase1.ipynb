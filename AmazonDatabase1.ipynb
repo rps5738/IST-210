{
  "nbformat": 4,
  "nbformat_minor": 0,
  "metadata": {
    "colab": {
      "name": "AmazonDatabase.ipynb",
      "provenance": [],
      "collapsed_sections": [],
      "include_colab_link": true
    },
    "kernelspec": {
      "name": "python3",
      "display_name": "Python 3"
    }
  },
  "cells": [
    {
      "cell_type": "markdown",
      "metadata": {
        "id": "view-in-github",
        "colab_type": "text"
      },
      "source": [
        "<a href=\"https://colab.research.google.com/github/rps5738/IST-210/blob/master/AmazonDatabase1.ipynb\" target=\"_parent\"><img src=\"https://colab.research.google.com/assets/colab-badge.svg\" alt=\"Open In Colab\"/></a>"
      ]
    },
    {
      "cell_type": "markdown",
      "metadata": {
        "id": "hmb3gnRQa7AE"
      },
      "source": [
        "##Project Details"
      ]
    },
    {
      "cell_type": "markdown",
      "metadata": {
        "id": "8v8OomdXTTTW"
      },
      "source": [
        "Our group project is creating a replica Amazon database. We thought this project would be interesting in August when we originally decided this is what we wanted to do because Amazon is arguably the biggest users of Big Data. Over the past several years Amazon has become the largest online distributor in the World. This is largely in part to the data they collect. When you select an item to send to your cart, if you scroll down a little bit it shows many item that are similar or ones that you just visited that page. Furthermore, for an ER diagram it is very interesting because there is so much that goes into it. This includes shipping, transations and the customers. Eventually we got to our final ER diagram by working through the assignments and creating what we believe to be an accurate respresentation of an Amazon ER diagram. "
      ]
    },
    {
      "cell_type": "markdown",
      "metadata": {
        "id": "imkwiZsmbBNt"
      },
      "source": [
        "##ER Diagram"
      ]
    },
    {
      "cell_type": "markdown",
      "metadata": {
        "id": "n4bCsOjNUv07"
      },
      "source": [
        "![ERDiagram](https://raw.githubusercontent.com/rps5738/IST-210/master/Images/ERdiagram.PNG)"
      ]
    },
    {
      "cell_type": "markdown",
      "metadata": {
        "id": "k4lXzEqcbE6W"
      },
      "source": [
        "##ER Diagram Information"
      ]
    },
    {
      "cell_type": "markdown",
      "metadata": {
        "id": "2K4B4NbZV_gI"
      },
      "source": [
        "This is our Amazon ER diagram. As you can see there are 5 tables. The tables are Product, Shipper, Supplier, Customer and Order. It's a fairly basic ER diagram where the customer creates an order of products that the supplier must take that order and provide information to the shipper in order to make it successfully arrive to the customer. "
      ]
    },
    {
      "cell_type": "markdown",
      "metadata": {
        "id": "AbcMNNy-WtGw"
      },
      "source": [
        "Our ER diagram is in first normal form and second normal form. It is in second normal form because it is in first normal form and it does not have partial dependancies. Although, shipper and suppier could occasionally have a partial dependancy with name and address. Many shippers and suppliers around the world could be owned under the same name but with different locations. As for customer, a person might have different sihpping and billing addresses based on who they are sending it to and which payment method they decide to use. Our ER diagram is also in thrid normal form because it is in second normal form and has not transitive dependancies. The product is in Boyce-Codd form because it is in third normal form and every nontrival determinant is a key."
      ]
    },
    {
      "cell_type": "markdown",
      "metadata": {
        "id": "HBsZC46ZbHQx"
      },
      "source": [
        "##Database and Information"
      ]
    },
    {
      "cell_type": "markdown",
      "metadata": {
        "id": "K9bVsjTYanGR"
      },
      "source": [
        "We created our database using our ER diagrams. We were lucky enough to not have to change out ER diagram to statisfy our database. Using the tables from the diagram we created a table in the database for each one and added the appropriate attributes to each table. For inserting the data into the database we simply added random data that is likely to be entered into that position. "
      ]
    },
    {
      "cell_type": "code",
      "metadata": {
        "id": "U8o-iGP1R0Aj",
        "colab": {
          "base_uri": "https://localhost:8080/",
          "height": 71
        },
        "outputId": "15ea219c-ab53-44c8-dbb4-9bd7161fa3cd"
      },
      "source": [
        "%load_ext sql\n",
        "%sql sqlite:///AmazonDatabase.db"
      ],
      "execution_count": null,
      "outputs": [
        {
          "output_type": "stream",
          "text": [
            "The sql extension is already loaded. To reload it, use:\n",
            "  %reload_ext sql\n"
          ],
          "name": "stdout"
        },
        {
          "output_type": "execute_result",
          "data": {
            "application/vnd.google.colaboratory.intrinsic+json": {
              "type": "string"
            },
            "text/plain": [
              "'Connected: @AmazonDatabase.db'"
            ]
          },
          "metadata": {
            "tags": []
          },
          "execution_count": 90
        }
      ]
    },
    {
      "cell_type": "code",
      "metadata": {
        "id": "57Gi0DgCSJsJ",
        "colab": {
          "base_uri": "https://localhost:8080/"
        },
        "outputId": "66aad68a-40be-4071-8309-ced094409bb8"
      },
      "source": [
        "%%sql\n",
        "DROP TABLE IF EXISTS Customer;\n",
        "create table Customer(CustomerEmail text PRIMARY KEY, Name text, shippingInfo text, billingInfo text);"
      ],
      "execution_count": null,
      "outputs": [
        {
          "output_type": "stream",
          "text": [
            " * sqlite:///AmazonDatabase.db\n",
            "Done.\n",
            "Done.\n"
          ],
          "name": "stdout"
        },
        {
          "output_type": "execute_result",
          "data": {
            "text/plain": [
              "[]"
            ]
          },
          "metadata": {
            "tags": []
          },
          "execution_count": 91
        }
      ]
    },
    {
      "cell_type": "code",
      "metadata": {
        "id": "sw86cWMjTOci",
        "colab": {
          "base_uri": "https://localhost:8080/"
        },
        "outputId": "ea7f88bc-ddfb-44e3-ceb8-dcddc9ac7cfa"
      },
      "source": [
        "%%sql\n",
        "DROP TABLE IF EXISTS OrderCounter;\n",
        "create table OrderCounter(OrderNumber text PRIMARY KEY, Product text, arriveDate text, shippingDate text, customerInfo text, supplierInfo text);"
      ],
      "execution_count": null,
      "outputs": [
        {
          "output_type": "stream",
          "text": [
            " * sqlite:///AmazonDatabase.db\n",
            "Done.\n",
            "Done.\n"
          ],
          "name": "stdout"
        },
        {
          "output_type": "execute_result",
          "data": {
            "text/plain": [
              "[]"
            ]
          },
          "metadata": {
            "tags": []
          },
          "execution_count": 92
        }
      ]
    },
    {
      "cell_type": "code",
      "metadata": {
        "id": "MHr9e77YTiXe",
        "colab": {
          "base_uri": "https://localhost:8080/"
        },
        "outputId": "5a963578-de08-414d-8bbd-d3349af5f699"
      },
      "source": [
        "%%sql\n",
        "DROP TABLE IF EXISTS Product;\n",
        "create table Product(ProductID text PRIMARY KEY, Name text, Type text, Price text);"
      ],
      "execution_count": null,
      "outputs": [
        {
          "output_type": "stream",
          "text": [
            " * sqlite:///AmazonDatabase.db\n",
            "Done.\n",
            "Done.\n"
          ],
          "name": "stdout"
        },
        {
          "output_type": "execute_result",
          "data": {
            "text/plain": [
              "[]"
            ]
          },
          "metadata": {
            "tags": []
          },
          "execution_count": 93
        }
      ]
    },
    {
      "cell_type": "code",
      "metadata": {
        "id": "1WIYXFZgTymD",
        "colab": {
          "base_uri": "https://localhost:8080/"
        },
        "outputId": "d8bf4fc4-ed93-418f-b006-a541e5b5d880"
      },
      "source": [
        "%%sql \n",
        "DROP TABLE IF EXISTS Shipper;\n",
        "create table Shipper(shipperID text PRIMARY KEY, name text, Address text, contactInfo text);"
      ],
      "execution_count": null,
      "outputs": [
        {
          "output_type": "stream",
          "text": [
            " * sqlite:///AmazonDatabase.db\n",
            "Done.\n",
            "Done.\n"
          ],
          "name": "stdout"
        },
        {
          "output_type": "execute_result",
          "data": {
            "text/plain": [
              "[]"
            ]
          },
          "metadata": {
            "tags": []
          },
          "execution_count": 94
        }
      ]
    },
    {
      "cell_type": "code",
      "metadata": {
        "id": "tiDyTfYWUSLr",
        "colab": {
          "base_uri": "https://localhost:8080/"
        },
        "outputId": "86399bae-1171-449f-ea91-6ad04073a535"
      },
      "source": [
        "%%sql\n",
        "DROP TABLE IF EXISTS Supplier;\n",
        "create table Supplier(supplierID text PRIMARY KEY, Name text, Address text, businessInfo text);"
      ],
      "execution_count": null,
      "outputs": [
        {
          "output_type": "stream",
          "text": [
            " * sqlite:///AmazonDatabase.db\n",
            "Done.\n",
            "Done.\n"
          ],
          "name": "stdout"
        },
        {
          "output_type": "execute_result",
          "data": {
            "text/plain": [
              "[]"
            ]
          },
          "metadata": {
            "tags": []
          },
          "execution_count": 95
        }
      ]
    },
    {
      "cell_type": "code",
      "metadata": {
        "id": "nLHZy3HZVz0q",
        "colab": {
          "base_uri": "https://localhost:8080/"
        },
        "outputId": "1eea2039-24be-49ee-fb7f-066237df06db"
      },
      "source": [
        "%%sql\n",
        "insert into Customer values ('corybanks@gmail.com', 'Cory Banks', '1440 Centennial Drive', '1440 Centennial Drive');\n",
        "insert into Customer values ('sashanix@gmail.com', 'Sasha Nix', '188 Clover Drive' , '1200 Demont Lane');\n",
        "insert into Customer values ('jayhacks@gmail.com', 'Jay Hacks' , '343 Guilty Road', '343 Guilty Road');\n",
        "insert into Customer values ('alexabliss@gmail.com', 'Alexa Bliss', '817 Hollow Drive', '6346 Storm Road');\n",
        "insert into Customer values ('kellyharpster@gmail.com', 'Kelly Harpster', '910 Antenna Drive', '215 Spark Way');"
      ],
      "execution_count": null,
      "outputs": [
        {
          "output_type": "stream",
          "text": [
            " * sqlite:///AmazonDatabase.db\n",
            "1 rows affected.\n",
            "1 rows affected.\n",
            "1 rows affected.\n",
            "1 rows affected.\n",
            "1 rows affected.\n"
          ],
          "name": "stdout"
        },
        {
          "output_type": "execute_result",
          "data": {
            "text/plain": [
              "[]"
            ]
          },
          "metadata": {
            "tags": []
          },
          "execution_count": 96
        }
      ]
    },
    {
      "cell_type": "code",
      "metadata": {
        "colab": {
          "base_uri": "https://localhost:8080/"
        },
        "id": "GCg5B5Wn-LNU",
        "outputId": "17e74db1-0746-4c2b-98ae-94fa28db4fb7"
      },
      "source": [
        "%%sql\n",
        "insert into OrderCounter values ('2980371921', 'Shower-Curtain', '02/04/45', '02/01/45', 'Cory Banks 1440 Centennial Drive', 'ShowerHeadsCo 125 Sunset Way');\n",
        "insert into OrderCounter values ('3290081029', 'Beach-Ball', '01/31/45', '01/24/45', 'Sasha Nix 188 Clover Drive', 'PlasticMasterpieceCo 8379 Fun Drive');\n",
        "insert into OrderCounter values ('0931848100', 'Phone-Charger', '03/15/45', '03/12/45', 'Jay Hacks 343 Guilty Road', 'iPear 644 Bow Drive');\n",
        "insert into OrderCounter values ('6778873219', 'Pillows', '09/28/45', '09/25/45', 'Alexa Bliss 817 Hollow Drive', 'MyPillow 920 Center Drive');\n",
        "insert into OrderCOunter values ('8291307410', 'Xbox', '12/21/45', '12/19/45', 'Kelly Harpster 910 Antenna Drive', 'Microsnot 2819 Loud Road');"
      ],
      "execution_count": null,
      "outputs": [
        {
          "output_type": "stream",
          "text": [
            " * sqlite:///AmazonDatabase.db\n",
            "1 rows affected.\n",
            "1 rows affected.\n",
            "1 rows affected.\n",
            "1 rows affected.\n",
            "1 rows affected.\n"
          ],
          "name": "stdout"
        },
        {
          "output_type": "execute_result",
          "data": {
            "text/plain": [
              "[]"
            ]
          },
          "metadata": {
            "tags": []
          },
          "execution_count": 97
        }
      ]
    },
    {
      "cell_type": "code",
      "metadata": {
        "colab": {
          "base_uri": "https://localhost:8080/"
        },
        "id": "ju9ByuAIWoqr",
        "outputId": "1cefe624-f8a7-4493-b8f8-66749bc2b9c1"
      },
      "source": [
        "%%sql\n",
        "insert into Product values ('98017263540', 'Shower-Curtain', 'Utility', '$18.99');\n",
        "insert into Product values ('83021434189', 'Beach-Ball', 'Entertainment', '$12.99');\n",
        "insert into Product values ('94014109012', 'Phone-Charger', 'Electronics', '$20.99');\n",
        "insert into Product values ('21938304142', 'Pillows', 'Sleepware', '$20.99');\n",
        "insert into Product values ('93401029709', 'Xbox', 'Electronics', '$499.99');"
      ],
      "execution_count": null,
      "outputs": [
        {
          "output_type": "stream",
          "text": [
            " * sqlite:///AmazonDatabase.db\n",
            "1 rows affected.\n",
            "1 rows affected.\n",
            "1 rows affected.\n",
            "1 rows affected.\n",
            "1 rows affected.\n"
          ],
          "name": "stdout"
        },
        {
          "output_type": "execute_result",
          "data": {
            "text/plain": [
              "[]"
            ]
          },
          "metadata": {
            "tags": []
          },
          "execution_count": 98
        }
      ]
    },
    {
      "cell_type": "code",
      "metadata": {
        "colab": {
          "base_uri": "https://localhost:8080/"
        },
        "id": "_1QuRNEelKoJ",
        "outputId": "08049ac2-c24a-4b04-ee15-c6a84a7a772c"
      },
      "source": [
        "%%sql\n",
        "insert into Shipper values ('9783129', 'Amazon', '2122 Circle Drive', 'contactamazon@their.place');\n",
        "insert into Shipper values ('9490808', 'ShareSpace', '414 Center Road', 'contactsharespace@their.place');\n",
        "insert into Shipper values ('5892398', 'Quick', '512 Space Road', 'outerquick@gmail.com');\n",
        "insert into Shipper values ('3927931', 'SendItInc', '231 Den Road', 'sendmail@gmail.com');\n",
        "insert into Shipper values ('9488012', 'MyPillow', '4708 Ran Road', 'MyPillow@info.com');"
      ],
      "execution_count": null,
      "outputs": [
        {
          "output_type": "stream",
          "text": [
            " * sqlite:///AmazonDatabase.db\n",
            "1 rows affected.\n",
            "1 rows affected.\n",
            "1 rows affected.\n",
            "1 rows affected.\n",
            "1 rows affected.\n"
          ],
          "name": "stdout"
        },
        {
          "output_type": "execute_result",
          "data": {
            "text/plain": [
              "[]"
            ]
          },
          "metadata": {
            "tags": []
          },
          "execution_count": 99
        }
      ]
    },
    {
      "cell_type": "code",
      "metadata": {
        "id": "3Lp5_h-pY697",
        "colab": {
          "base_uri": "https://localhost:8080/"
        },
        "outputId": "fd50639a-56f4-4c13-93bb-f6e20e419037"
      },
      "source": [
        "%%sql\n",
        "insert into Supplier values ('39012202', 'ShowerHeadsCo', '125 Sunset Way', 'wayhead@gmail.info');\n",
        "insert into Supplier values ('90481203', 'PlasticMasterpieceCo', '8379 Fun Drive', 'plasticmasterpiece@gmail.info');\n",
        "insert into Supplier values ('30901990', 'iPear', '644 Bow Drive', 'iorangeProducts@sayway.com');\n",
        "insert into Supplier values ('89391903', 'MyPillow', '920 Center Drive', 'mypillowinfo@carrier.com');\n",
        "insert into Supplier values ('49309127', 'Microsnot', '2819 Loud Road', 'signtomicrosnot@carrier.com');"
      ],
      "execution_count": null,
      "outputs": [
        {
          "output_type": "stream",
          "text": [
            " * sqlite:///AmazonDatabase.db\n",
            "1 rows affected.\n",
            "1 rows affected.\n",
            "1 rows affected.\n",
            "1 rows affected.\n",
            "1 rows affected.\n"
          ],
          "name": "stdout"
        },
        {
          "output_type": "execute_result",
          "data": {
            "text/plain": [
              "[]"
            ]
          },
          "metadata": {
            "tags": []
          },
          "execution_count": 100
        }
      ]
    },
    {
      "cell_type": "markdown",
      "metadata": {
        "id": "rU_j39OAcc3E"
      },
      "source": [
        "##Scenario"
      ]
    },
    {
      "cell_type": "markdown",
      "metadata": {
        "id": "ahn1AHrBcfJI"
      },
      "source": [
        "An accurate scenario for our project would be a person named Jill who wants to buy a toaster and have it shipped to her house at 188 Clover Drive using her credit card. The toaster is product number 83659837621 that is an electronic for $32.99. The order number is 896257382, the arrival date is 01/31/45 and the shipping date is 01/24/45, and it is shipping from the supplier PlasticMasterpieceCo at 8379 Fun Drive. That supplier now gives it to the shipper Amazon at 2122 Circle Drive and their information is contactamazon@their.place. Eventually the toaster makes it to Jill and she can eat all the toast she wants happily.  "
      ]
    },
    {
      "cell_type": "code",
      "metadata": {
        "id": "9d3wNvS0f6lK"
      },
      "source": [
        "%%sql\r\n",
        "insert into Customer values ('jillToast@gmail.com', 'Jill Toast', '188 Clover Drive' , '188 Clover Drive');"
      ],
      "execution_count": null,
      "outputs": []
    },
    {
      "cell_type": "code",
      "metadata": {
        "id": "ei-gARCggkEJ"
      },
      "source": [
        "%%sql\r\n",
        "insert into OrderCounter values ('896257382', 'Toaster', '01/31/45', '01/24/45', 'Jill Toast 188 Clover Drive', 'PlasticMasterpieceCo at 8379 Fun Drive);"
      ],
      "execution_count": null,
      "outputs": []
    },
    {
      "cell_type": "code",
      "metadata": {
        "id": "i52KXJaPgrB3"
      },
      "source": [
        "%%sql\r\n",
        "insert into Product values ('896257382', 'Toaster', 'Electronic', '$32.99');"
      ],
      "execution_count": null,
      "outputs": []
    },
    {
      "cell_type": "code",
      "metadata": {
        "id": "cYdLKn2thOUF"
      },
      "source": [
        "%%sql\r\n",
        "insert into Shipper values ('8362960', 'Amazon', '2122 Circle Drive', 'contactamazon@their.place');"
      ],
      "execution_count": null,
      "outputs": []
    },
    {
      "cell_type": "code",
      "metadata": {
        "id": "WnbU_e3Thqfq"
      },
      "source": [
        "%%sql\r\n",
        "insert into Supplier values ('49659053', 'PlasticMasterpieceCo', '8379 Fun Drive', 'plasticmasterpiece@gmail.info');"
      ],
      "execution_count": null,
      "outputs": []
    },
    {
      "cell_type": "markdown",
      "metadata": {
        "id": "G5AoEqu0cLuD"
      },
      "source": [
        "##Queries"
      ]
    },
    {
      "cell_type": "markdown",
      "metadata": {
        "id": "j6beDshlml2j"
      },
      "source": [
        "What customers have an \"a\" in their name?"
      ]
    },
    {
      "cell_type": "code",
      "metadata": {
        "colab": {
          "base_uri": "https://localhost:8080/",
          "height": 179
        },
        "id": "KWv4Za1Pmzir",
        "outputId": "a1d5299e-dee9-4a0b-cd4a-28f17ee3eef3"
      },
      "source": [
        "%%sql\n",
        "Select * FROM Customer WHERE Name LIKE \"%A%\""
      ],
      "execution_count": null,
      "outputs": [
        {
          "output_type": "stream",
          "text": [
            " * sqlite:///AmazonDatabase.db\n",
            "Done.\n"
          ],
          "name": "stdout"
        },
        {
          "output_type": "execute_result",
          "data": {
            "text/html": [
              "<table>\n",
              "    <tr>\n",
              "        <th>CustomerEmail</th>\n",
              "        <th>Name</th>\n",
              "        <th>shippingInfo</th>\n",
              "        <th>billingInfo</th>\n",
              "    </tr>\n",
              "    <tr>\n",
              "        <td>corybanks@gmail.com</td>\n",
              "        <td>Cory Banks</td>\n",
              "        <td>1440 Centennial Drive</td>\n",
              "        <td>1440 Centennial Drive</td>\n",
              "    </tr>\n",
              "    <tr>\n",
              "        <td>sashanix@gmail.com</td>\n",
              "        <td>Sasha Nix</td>\n",
              "        <td>188 Clover Drive</td>\n",
              "        <td>1200 Demont Lane</td>\n",
              "    </tr>\n",
              "    <tr>\n",
              "        <td>jayhacks@gmail.com</td>\n",
              "        <td>Jay Hacks</td>\n",
              "        <td>343 Guilty Road</td>\n",
              "        <td>343 Guilty Road</td>\n",
              "    </tr>\n",
              "    <tr>\n",
              "        <td>alexabliss@gmail.com</td>\n",
              "        <td>Alexa Bliss</td>\n",
              "        <td>817 Hollow Drive</td>\n",
              "        <td>6346 Storm Road</td>\n",
              "    </tr>\n",
              "    <tr>\n",
              "        <td>kellyharpster@gmail.com</td>\n",
              "        <td>Kelly Harpster</td>\n",
              "        <td>910 Antenna Drive</td>\n",
              "        <td>215 Spark Way</td>\n",
              "    </tr>\n",
              "</table>"
            ],
            "text/plain": [
              "[('corybanks@gmail.com', 'Cory Banks', '1440 Centennial Drive', '1440 Centennial Drive'),\n",
              " ('sashanix@gmail.com', 'Sasha Nix', '188 Clover Drive', '1200 Demont Lane'),\n",
              " ('jayhacks@gmail.com', 'Jay Hacks', '343 Guilty Road', '343 Guilty Road'),\n",
              " ('alexabliss@gmail.com', 'Alexa Bliss', '817 Hollow Drive', '6346 Storm Road'),\n",
              " ('kellyharpster@gmail.com', 'Kelly Harpster', '910 Antenna Drive', '215 Spark Way')]"
            ]
          },
          "metadata": {
            "tags": []
          },
          "execution_count": 104
        }
      ]
    },
    {
      "cell_type": "markdown",
      "metadata": {
        "id": "HX0tdm-Rnqlf"
      },
      "source": [
        "When it comes to why this question was important, it is important in determining who's name has an \"a\" in it. With this, we can determine who's name has an \"a\" and who's doesn't. This will separate the people with \"a\" in their name between the people without \"a\" in their name. These results are what I expected when looking at the data. "
      ]
    },
    {
      "cell_type": "markdown",
      "metadata": {
        "id": "eZPaIvHooNQ_"
      },
      "source": [
        "How many orders were made in the second half of the year 2045?"
      ]
    },
    {
      "cell_type": "code",
      "metadata": {
        "colab": {
          "base_uri": "https://localhost:8080/",
          "height": 116
        },
        "id": "aKZnwdlWo1XS",
        "outputId": "ed710de3-589f-499e-fc3b-03d7252656d6"
      },
      "source": [
        "%%sql\n",
        "select * from OrderCounter WHERE arriveDate BETWEEN \"07/01/45\" AND \"12/31/45\""
      ],
      "execution_count": null,
      "outputs": [
        {
          "output_type": "stream",
          "text": [
            " * sqlite:///AmazonDatabase.db\n",
            "Done.\n"
          ],
          "name": "stdout"
        },
        {
          "output_type": "execute_result",
          "data": {
            "text/html": [
              "<table>\n",
              "    <tr>\n",
              "        <th>OrderNumber</th>\n",
              "        <th>Product</th>\n",
              "        <th>arriveDate</th>\n",
              "        <th>shippingDate</th>\n",
              "        <th>customerInfo</th>\n",
              "        <th>supplierInfo</th>\n",
              "    </tr>\n",
              "    <tr>\n",
              "        <td>6778873219</td>\n",
              "        <td>Pillows</td>\n",
              "        <td>09/28/45</td>\n",
              "        <td>09,25,45</td>\n",
              "        <td>Alexa Bliss 817 Hollow Drive</td>\n",
              "        <td>MyPillow 920 Center Drive</td>\n",
              "    </tr>\n",
              "    <tr>\n",
              "        <td>8291307410</td>\n",
              "        <td>Xbox</td>\n",
              "        <td>12/21/45</td>\n",
              "        <td>12/19/45</td>\n",
              "        <td>Kelly Harpster 910 Antenna Drive</td>\n",
              "        <td>Microsnot 2819 Loud Road</td>\n",
              "    </tr>\n",
              "</table>"
            ],
            "text/plain": [
              "[('6778873219', 'Pillows', '09/28/45', '09,25,45', 'Alexa Bliss 817 Hollow Drive', 'MyPillow 920 Center Drive'),\n",
              " ('8291307410', 'Xbox', '12/21/45', '12/19/45', 'Kelly Harpster 910 Antenna Drive', 'Microsnot 2819 Loud Road')]"
            ]
          },
          "metadata": {
            "tags": []
          },
          "execution_count": 105
        }
      ]
    },
    {
      "cell_type": "markdown",
      "metadata": {
        "id": "XMcyeK60ptaV"
      },
      "source": [
        "This question was significantly important because it tells us who bought items on the second half of the year 2045. Knowing this, we can declare the other three pieces of data has items that were bought in the first half of 2045. These were the results I was expecting. I knew what year the items were bought because I made everything in the table. "
      ]
    },
    {
      "cell_type": "markdown",
      "metadata": {
        "id": "rGqIRMesqCRR"
      },
      "source": [
        "How many order numbers are their in the Order table?\n"
      ]
    },
    {
      "cell_type": "code",
      "metadata": {
        "colab": {
          "base_uri": "https://localhost:8080/",
          "height": 95
        },
        "id": "I9MiVvDUqfVs",
        "outputId": "3407da99-54a3-46db-8304-35470c67c201"
      },
      "source": [
        "%%sql\n",
        "select COUNT(OrderNumber) from OrderCounter"
      ],
      "execution_count": null,
      "outputs": [
        {
          "output_type": "stream",
          "text": [
            " * sqlite:///AmazonDatabase.db\n",
            "Done.\n"
          ],
          "name": "stdout"
        },
        {
          "output_type": "execute_result",
          "data": {
            "text/html": [
              "<table>\n",
              "    <tr>\n",
              "        <th>COUNT(OrderNUmber)</th>\n",
              "    </tr>\n",
              "    <tr>\n",
              "        <td>5</td>\n",
              "    </tr>\n",
              "</table>"
            ],
            "text/plain": [
              "[(5,)]"
            ]
          },
          "metadata": {
            "tags": []
          },
          "execution_count": 106
        }
      ]
    },
    {
      "cell_type": "markdown",
      "metadata": {
        "id": "fC0_ypIfqrPZ"
      },
      "source": [
        "This question is awefully important because we need to know how many different orders there are so there is enough stock of the item as well as making sure Amazon is able to process the orders and get them out in a timely manner. This question was expected from me, as I made the tables and I know how many there are."
      ]
    }
  ]
}